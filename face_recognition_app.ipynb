{
 "cells": [
  {
   "cell_type": "code",
   "execution_count": 1,
   "id": "2342dca6-f1e3-4fe4-ae5a-36bbaddeb485",
   "metadata": {},
   "outputs": [],
   "source": [
    "import os\n",
    "import cv2\n",
    "import matplotlib.pyplot as plt\n",
    "import numpy as np\n",
    "import face_recognition"
   ]
  },
  {
   "cell_type": "code",
   "execution_count": 2,
   "id": "486ef782-8319-4fc3-91ae-ace598ef1d12",
   "metadata": {},
   "outputs": [],
   "source": [
    "def imshow(image):\n",
    "    # image_rgb = cv2.cvtColor(image, cv2.COLOR_BGR2RGB)\n",
    "    plt.imshow(image)"
   ]
  },
  {
   "cell_type": "code",
   "execution_count": 3,
   "id": "d77f4d18-37b0-4301-aa4c-95f4959706dd",
   "metadata": {},
   "outputs": [],
   "source": [
    "dataset_dir = \"data\""
   ]
  },
  {
   "cell_type": "code",
   "execution_count": 6,
   "id": "c658161b-5d59-4db2-8dd9-25625985dac0",
   "metadata": {},
   "outputs": [
    {
     "data": {
      "text/plain": [
       "['Nadech', 'prayuth']"
      ]
     },
     "execution_count": 6,
     "metadata": {},
     "output_type": "execute_result"
    }
   ],
   "source": [
    "names = [name for name in os.listdir(dataset_dir) if name != '.ipynb_checkpoints']\n",
    "names"
   ]
  },
  {
   "cell_type": "code",
   "execution_count": 7,
   "id": "d3cbe5d1-2664-4b4a-9b09-77c93b79cdba",
   "metadata": {},
   "outputs": [
    {
     "name": "stdout",
     "output_type": "stream",
     "text": [
      "encoding ... data/Nadech/0.jpg\n",
      "encoding ... data/Nadech/1.jpg\n",
      "encoding ... data/prayuth/2.jpg\n",
      "encoding ... data/prayuth/3.jpg\n"
     ]
    }
   ],
   "source": [
    "data = {}\n",
    "for name in names:\n",
    "    data[name] = []\n",
    "    filenames = [x for x in os.listdir(f\"{dataset_dir}/{name}\") if x != '.ipynb_checkpoints']\n",
    "    for i in range(len(filenames)):\n",
    "        filename = f\"{dataset_dir}/{name}/{filenames[i]}\"\n",
    "        print(f\"encoding ... {filename}\")\n",
    "        image = cv2.imread(filename)\n",
    "        image = cv2.cvtColor(image, cv2.COLOR_BGR2RGB) # แปลง image เป็น RGB\n",
    "        locations = face_recognition.face_locations(image)\n",
    "        top, right, bottom, left = locations[0]\n",
    "        face = image[top:bottom, left:right, :]\n",
    "        face_encoding = face_recognition.face_encodings(face, known_face_locations=[(0, face.shape[1]-1, face.shape[0]-1,0)])[0]\n",
    "        data[name].append(face_encoding)\n",
    "    data[name] = np.mean(data[name],axis=0)\n",
    "        "
   ]
  },
  {
   "cell_type": "code",
   "execution_count": 67,
   "id": "f078e35e-0deb-4735-aad0-eb0511ebf271",
   "metadata": {},
   "outputs": [
    {
     "name": "stdout",
     "output_type": "stream",
     "text": [
      "unknown =Nadech\n"
     ]
    }
   ],
   "source": [
    "unknown_image = cv2.imread(\"data/unknown/5.jpg\")\n",
    "unknown_image = cv2.cvtColor(unknown_image, cv2.COLOR_BGR2RGB)\n",
    "unknown_locations = face_recognition.face_locations(unknown_image)\n",
    "top, right, bottom, left = unknown_locations[0]\n",
    "unknown_face = unknown_image[top:bottom, left:right, :]\n",
    "unknown_face_encoding = face_recognition.face_encodings(unknown_face, known_face_locations = [(0, unknown_face.shape[1]-1, unknown_face.shape[0]-1,0)])[0]\n",
    "\n",
    "names = list(data.keys())\n",
    "encodings = []\n",
    "for name in names:\n",
    "    encodings.append(data[name])\n",
    "distances = face_recognition.face_distance(encodings, unknown_face_encoding)\n",
    "index_min = np.argmin(distances)\n",
    "print(f\"unknown = {names[index_min]}\")\n"
   ]
  },
  {
   "cell_type": "code",
   "execution_count": null,
   "id": "db0e6678-8ec6-4074-986e-99492f4a0bf6",
   "metadata": {},
   "outputs": [],
   "source": []
  }
 ],
 "metadata": {
  "kernelspec": {
   "display_name": "Python 3.9.13 ('face_recognition_lab')",
   "language": "python",
   "name": "python3"
  },
  "language_info": {
   "codemirror_mode": {
    "name": "ipython",
    "version": 3
   },
   "file_extension": ".py",
   "mimetype": "text/x-python",
   "name": "python",
   "nbconvert_exporter": "python",
   "pygments_lexer": "ipython3",
   "version": "3.9.13"
  },
  "vscode": {
   "interpreter": {
    "hash": "26f1a565bc60002c0a756a8e8dadb8dfb924bd235477ad760e4e2d60b465ffd0"
   }
  }
 },
 "nbformat": 4,
 "nbformat_minor": 5
}
